{
 "cells": [
  {
   "cell_type": "code",
   "execution_count": null,
   "id": "fc8cb956-a90a-444f-9eb9-bf02665dde0b",
   "metadata": {},
   "outputs": [],
   "source": [
    "Ans5 \n",
    " Python allows one to add an integer and a floating point number, but adding an integer to a string produces error "
   ]
  },
  {
   "cell_type": "code",
   "execution_count": null,
   "id": "e46d6a8e-3a92-426e-94cb-b915302dea2d",
   "metadata": {},
   "outputs": [],
   "source": [
    "Ans 4\n",
    "type variableName = value; Where type is one of C types \n",
    "(such as int ), and variableName is the name of the variable (such as x or myName)."
   ]
  },
  {
   "cell_type": "code",
   "execution_count": null,
   "id": "634c3464-13d2-4399-bee1-a17397229221",
   "metadata": {},
   "outputs": [],
   "source": [
    "ans 3\n",
    "we can define a variable name with the string by adding the input string as a key into the symbol table."
   ]
  },
  {
   "cell_type": "code",
   "execution_count": null,
   "id": "4a0cc89e-3649-4df3-adb0-e69136825f2d",
   "metadata": {},
   "outputs": [],
   "source": [
    "ans 2\n",
    " and they cannot be used as variable names"
   ]
  },
  {
   "cell_type": "code",
   "execution_count": null,
   "id": "25b33b7c-4928-410a-bcc1-278d24467e14",
   "metadata": {},
   "outputs": [],
   "source": [
    "\n"
   ]
  }
 ],
 "metadata": {
  "kernelspec": {
   "display_name": "",
   "name": ""
  },
  "language_info": {
   "name": ""
  }
 },
 "nbformat": 4,
 "nbformat_minor": 5
}
